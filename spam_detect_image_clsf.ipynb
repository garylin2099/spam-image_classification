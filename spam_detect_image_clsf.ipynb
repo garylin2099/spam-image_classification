{
 "cells": [
  {
   "cell_type": "markdown",
   "metadata": {},
   "source": [
    "# Question 1: Data Loading"
   ]
  },
  {
   "cell_type": "code",
   "execution_count": 34,
   "metadata": {},
   "outputs": [],
   "source": [
    "import numpy as np\n",
    "import matplotlib.pyplot as plt\n",
    "import pandas as pd\n",
    "from sklearn import svm\n",
    "from sklearn import metrics\n",
    "from scipy import io\n",
    "import random\n",
    "\n",
    "random.seed(2020)\n",
    "\n",
    "data_mnist = io.loadmat(\"data/mnist_data.mat\")\n",
    "data_spam = io.loadmat(\"data/spam_data.mat\")\n",
    "data_cifar10 = io.loadmat(\"data/cifar10_data.mat\")"
   ]
  },
  {
   "cell_type": "code",
   "execution_count": null,
   "metadata": {},
   "outputs": [],
   "source": [
    "#\n",
    "#\n",
    "#\n",
    "#\n",
    "#\n",
    "#\n",
    "# \n",
    "#\n",
    "#\n",
    "# this is used to skip to a new page for the next question\n",
    "#\n",
    "#\n",
    "#\n",
    "#\n",
    "#\n",
    "#\n",
    "#\n",
    "# \n",
    "#\n",
    "#\n",
    "#\n",
    "#"
   ]
  },
  {
   "cell_type": "markdown",
   "metadata": {},
   "source": [
    "# Question 2: Data Partition"
   ]
  },
  {
   "cell_type": "markdown",
   "metadata": {},
   "source": [
    "## Partitioning"
   ]
  },
  {
   "cell_type": "code",
   "execution_count": 30,
   "metadata": {},
   "outputs": [],
   "source": [
    "def partition(data, val_set_size):\n",
    "    training_data = data[\"training_data\"]\n",
    "    training_labels = data[\"training_labels\"]\n",
    "    \n",
    "    # shuffle datasets before partition\n",
    "    shuffle_index = random.sample(range(len(training_data)), \n",
    "                                        len(training_data))\n",
    "    training_data = training_data[shuffle_index]\n",
    "    training_labels = training_labels[shuffle_index]\n",
    "    \n",
    "    #partition data into training and validation set\n",
    "    val_ind = random.sample(range(len(training_data)), val_set_size)\n",
    "    val_x = training_data[val_ind]\n",
    "    val_y = training_labels[val_ind]\n",
    "    \n",
    "    train_x = np.delete(training_data, val_ind, axis = 0)\n",
    "    train_y = np.delete(training_labels, val_ind, axis = 0)\n",
    "    return([train_x, train_y, val_x, val_y])\n",
    "\n",
    "# (a) MNIST\n",
    "[train_x_mnist, train_y_mnist, val_x_mnist, val_y_mnist] = partition(data_mnist, 10000)\n",
    "# (b) spam\n",
    "[train_x_spam, train_y_spam, val_x_spam, val_y_spam] = partition(data_spam, round(0.2 * len(data_spam[\"training_data\"])))\n",
    "# (c) CIFAR-10\n",
    "[train_x_cifar, train_y_cifar, val_x_cifar, val_y_cifar] = partition(data_cifar10, 5000)"
   ]
  },
  {
   "cell_type": "markdown",
   "metadata": {},
   "source": [
    "## Result"
   ]
  },
  {
   "cell_type": "markdown",
   "metadata": {},
   "source": [
    "As we can see below, the three datasets (both X and the y labels) have been partitioned into training and validation set according to the specification of the question"
   ]
  },
  {
   "cell_type": "code",
   "execution_count": 31,
   "metadata": {},
   "outputs": [
    {
     "name": "stdout",
     "output_type": "stream",
     "text": [
      "(a) 10000 10000 50000 50000\n",
      "(b) 1034 1034 4138 4138\n",
      "(c) 5000 5000 45000 45000\n"
     ]
    }
   ],
   "source": [
    "print(\"(a)\", len(val_x_mnist), len(val_y_mnist), len(train_x_mnist), len(train_y_mnist))\n",
    "print(\"(b)\", len(val_x_spam), len(val_y_spam), len(train_x_spam), len(train_y_spam))\n",
    "print(\"(c)\", len(val_x_cifar), len(val_y_cifar), len(train_x_cifar), len(train_y_cifar))"
   ]
  },
  {
   "cell_type": "code",
   "execution_count": 21,
   "metadata": {},
   "outputs": [],
   "source": [
    "#\n",
    "# this is used to skip to a new page for the next question\n",
    "# \n",
    "#"
   ]
  },
  {
   "cell_type": "markdown",
   "metadata": {},
   "source": [
    "# Question 3: Support Vector Machines"
   ]
  },
  {
   "cell_type": "code",
   "execution_count": 46,
   "metadata": {},
   "outputs": [],
   "source": [
    "# define functions to be used in all three cases (MNIST, spam, CIFAR-10)\n",
    "\n",
    "# function to compute training set accuracies given training sets of different size\n",
    "def train_accr_vs_size(X_train, y_train, size_vec):\n",
    "    accr = []\n",
    "    for ex_size in size_vec:\n",
    "        clf = svm.SVC(kernel = 'linear')\n",
    "        clf.fit(X_train[range(ex_size)], y_train[range(ex_size)].ravel())\n",
    "        y_pred = clf.predict(X_train[range(ex_size)])\n",
    "        accr.append(metrics.accuracy_score(y_train[range(ex_size)], y_pred))\n",
    "    return accr\n",
    "\n",
    "# function to compute validation accuracies given training sets of different size\n",
    "def val_accr_vs_size(X_train, y_train, X_pred, y_true, size_vec):\n",
    "    accr = []\n",
    "    for ex_size in size_vec:\n",
    "        clf = svm.SVC(kernel = 'linear')\n",
    "        clf.fit(X_train[range(ex_size)], y_train[range(ex_size)].ravel())\n",
    "        y_pred = clf.predict(X_pred)\n",
    "        accr.append(metrics.accuracy_score(y_true, y_pred))\n",
    "    return accr\n",
    "\n",
    "def plot_error(ex_size, train_error, val_error, data_name):\n",
    "    plt.plot(ex_size, train_error, linestyle='dashed', marker='.',\n",
    "             markersize=10, label = 'training error')\n",
    "    plt.plot(ex_size, val_error, linestyle='dashed', marker='.',\n",
    "             markersize=10, label = 'validation error')\n",
    "    plt.title('Error Rate vs Example Size: ' + data_name)\n",
    "    plt.legend()\n",
    "    plt.xlabel('Training Example Size')\n",
    "    plt.ylabel('Error Rate')\n",
    "\n",
    "def calclt_and_plot(train_x, train_y, val_x, val_y, data_name, ex_size):\n",
    "    train_accr = train_accr_vs_size(train_x, train_y, ex_size)\n",
    "    train_error = [1 - x for x in train_accr]\n",
    "    val_accr = val_accr_vs_size(train_x, train_y,\n",
    "                                      val_x, val_y, ex_size)\n",
    "    val_error = [1 - x for x in val_accr]\n",
    "    plot_error(ex_size, train_error, val_error, data_name)"
   ]
  },
  {
   "cell_type": "markdown",
   "metadata": {},
   "source": [
    "compute and plot the error rates vs. training example size"
   ]
  },
  {
   "cell_type": "code",
   "execution_count": 50,
   "metadata": {},
   "outputs": [
    {
     "data": {
      "image/png": "[encoded data removed]",
      "text/plain": [
       "<Figure size 648x648 with 3 Axes>"
      ]
     },
     "metadata": {
      "needs_background": "light"
     },
     "output_type": "display_data"
    }
   ],
   "source": [
    "plt.figure(figsize=(9,9))\n",
    "plt.subplot(221)\n",
    "calclt_and_plot(train_x_mnist, train_y_mnist, val_x_mnist, val_y_mnist, \"MNIST\",\n",
    "                [100, 200, 500, 1000, 2000, 5000, 10000])\n",
    "plt.subplot(222)\n",
    "calclt_and_plot(train_x_spam, train_y_spam, val_x_spam, val_y_spam, \"Spam\",\n",
    "                [100, 200, 500, 1000, 2000, len(train_x_spam)])\n",
    "plt.subplot(223)\n",
    "calclt_and_plot(train_x_cifar, train_y_cifar, val_x_cifar, val_y_cifar, \"CIFAR\",\n",
    "                [100, 200, 500, 1000, 2000, 5000])"
   ]
  },
  {
   "cell_type": "code",
   "execution_count": 1,
   "metadata": {},
   "outputs": [],
   "source": [
    "#\n",
    "# this is used to skip to a new page for the next question\n",
    "# \n",
    "#"
   ]
  },
  {
   "cell_type": "markdown",
   "metadata": {},
   "source": [
    "# Question 4: Hyperparameter Tuning"
   ]
  },
  {
   "cell_type": "code",
   "execution_count": 65,
   "metadata": {},
   "outputs": [],
   "source": [
    "# set up a vector of C values to be experimented on. The values increase from\n",
    "# 1e-10 to 1e10 by order of magnitude\n",
    "C_vec = []\n",
    "c0 = 1e-10\n",
    "for i in range(21):\n",
    "    C_vec.append(c0)\n",
    "    c0 *= 10\n",
    "\n",
    "# suppress unnecessary warnings when using LinearSVC\n",
    "import warnings\n",
    "warnings.filterwarnings(\"ignore\")\n",
    "\n",
    "# mnist validation\n",
    "ex_index = random.sample(range(len(train_x_mnist)), 10000)\n",
    "accr_vs_C_mnist = []\n",
    "for i in C_vec:\n",
    "    clf = svm.LinearSVC(C = i)\n",
    "    clf.fit(train_x_mnist[ex_index], train_y_mnist[ex_index].ravel())\n",
    "    y_pred = clf.predict(val_x_mnist)\n",
    "    accr_vs_C_mnist.append(metrics.accuracy_score(val_y_mnist, y_pred))\n",
    "\n",
    "accr_C_df_mnist = pd.DataFrame({'c value': C_vec, 'accuracies': accr_vs_C_mnist})\n",
    "optimal_C_mnist = accr_C_df_mnist[accr_C_df_mnist[\"accuracies\"]\\\n",
    "                            == max(accr_C_df_mnist[\"accuracies\"])].iloc[0,0]"
   ]
  },
  {
   "cell_type": "markdown",
   "metadata": {},
   "source": [
    "C values and corresponding accuracies with the best C being 1e-6"
   ]
  },
  {
   "cell_type": "code",
   "execution_count": 66,
   "metadata": {},
   "outputs": [
    {
     "data": {
      "text/plain": [
       "1e-06"
      ]
     },
     "execution_count": 66,
     "metadata": {},
     "output_type": "execute_result"
    }
   ],
   "source": [
    "optimal_C_mnist"
   ]
  },
  {
   "cell_type": "code",
   "execution_count": 67,
   "metadata": {},
   "outputs": [
    {
     "data": {
      "text/html": [
       "<div>\n",
       "<style scoped>\n",
       "    .dataframe tbody tr th:only-of-type {\n",
       "        vertical-align: middle;\n",
       "    }\n",
       "\n",
       "    .dataframe tbody tr th {\n",
       "        vertical-align: top;\n",
       "    }\n",
       "\n",
       "    .dataframe thead th {\n",
       "        text-align: right;\n",
       "    }\n",
       "</style>\n",
       "<table border=\"1\" class=\"dataframe\">\n",
       "  <thead>\n",
       "    <tr style=\"text-align: right;\">\n",
       "      <th></th>\n",
       "      <th>c value</th>\n",
       "      <th>accuracies</th>\n",
       "    </tr>\n",
       "  </thead>\n",
       "  <tbody>\n",
       "    <tr>\n",
       "      <th>0</th>\n",
       "      <td>1.000000e-10</td>\n",
       "      <td>0.7629</td>\n",
       "    </tr>\n",
       "    <tr>\n",
       "      <th>1</th>\n",
       "      <td>1.000000e-09</td>\n",
       "      <td>0.8304</td>\n",
       "    </tr>\n",
       "    <tr>\n",
       "      <th>2</th>\n",
       "      <td>1.000000e-08</td>\n",
       "      <td>0.8765</td>\n",
       "    </tr>\n",
       "    <tr>\n",
       "      <th>3</th>\n",
       "      <td>1.000000e-07</td>\n",
       "      <td>0.8966</td>\n",
       "    </tr>\n",
       "    <tr>\n",
       "      <th>4</th>\n",
       "      <td>1.000000e-06</td>\n",
       "      <td>0.8971</td>\n",
       "    </tr>\n",
       "    <tr>\n",
       "      <th>5</th>\n",
       "      <td>1.000000e-05</td>\n",
       "      <td>0.8847</td>\n",
       "    </tr>\n",
       "    <tr>\n",
       "      <th>6</th>\n",
       "      <td>1.000000e-04</td>\n",
       "      <td>0.8633</td>\n",
       "    </tr>\n",
       "    <tr>\n",
       "      <th>7</th>\n",
       "      <td>1.000000e-03</td>\n",
       "      <td>0.8423</td>\n",
       "    </tr>\n",
       "    <tr>\n",
       "      <th>8</th>\n",
       "      <td>1.000000e-02</td>\n",
       "      <td>0.8457</td>\n",
       "    </tr>\n",
       "    <tr>\n",
       "      <th>9</th>\n",
       "      <td>1.000000e-01</td>\n",
       "      <td>0.8423</td>\n",
       "    </tr>\n",
       "    <tr>\n",
       "      <th>10</th>\n",
       "      <td>1.000000e+00</td>\n",
       "      <td>0.8422</td>\n",
       "    </tr>\n",
       "    <tr>\n",
       "      <th>11</th>\n",
       "      <td>1.000000e+01</td>\n",
       "      <td>0.8373</td>\n",
       "    </tr>\n",
       "    <tr>\n",
       "      <th>12</th>\n",
       "      <td>1.000000e+02</td>\n",
       "      <td>0.8474</td>\n",
       "    </tr>\n",
       "    <tr>\n",
       "      <th>13</th>\n",
       "      <td>1.000000e+03</td>\n",
       "      <td>0.8512</td>\n",
       "    </tr>\n",
       "    <tr>\n",
       "      <th>14</th>\n",
       "      <td>1.000000e+04</td>\n",
       "      <td>0.8363</td>\n",
       "    </tr>\n",
       "    <tr>\n",
       "      <th>15</th>\n",
       "      <td>1.000000e+05</td>\n",
       "      <td>0.8501</td>\n",
       "    </tr>\n",
       "    <tr>\n",
       "      <th>16</th>\n",
       "      <td>1.000000e+06</td>\n",
       "      <td>0.8454</td>\n",
       "    </tr>\n",
       "    <tr>\n",
       "      <th>17</th>\n",
       "      <td>1.000000e+07</td>\n",
       "      <td>0.8270</td>\n",
       "    </tr>\n",
       "    <tr>\n",
       "      <th>18</th>\n",
       "      <td>1.000000e+08</td>\n",
       "      <td>0.8413</td>\n",
       "    </tr>\n",
       "    <tr>\n",
       "      <th>19</th>\n",
       "      <td>1.000000e+09</td>\n",
       "      <td>0.8355</td>\n",
       "    </tr>\n",
       "    <tr>\n",
       "      <th>20</th>\n",
       "      <td>1.000000e+10</td>\n",
       "      <td>0.8477</td>\n",
       "    </tr>\n",
       "  </tbody>\n",
       "</table>\n",
       "</div>"
      ],
      "text/plain": [
       "         c value  accuracies\n",
       "0   1.000000e-10      0.7629\n",
       "1   1.000000e-09      0.8304\n",
       "2   1.000000e-08      0.8765\n",
       "3   1.000000e-07      0.8966\n",
       "4   1.000000e-06      0.8971\n",
       "5   1.000000e-05      0.8847\n",
       "6   1.000000e-04      0.8633\n",
       "7   1.000000e-03      0.8423\n",
       "8   1.000000e-02      0.8457\n",
       "9   1.000000e-01      0.8423\n",
       "10  1.000000e+00      0.8422\n",
       "11  1.000000e+01      0.8373\n",
       "12  1.000000e+02      0.8474\n",
       "13  1.000000e+03      0.8512\n",
       "14  1.000000e+04      0.8363\n",
       "15  1.000000e+05      0.8501\n",
       "16  1.000000e+06      0.8454\n",
       "17  1.000000e+07      0.8270\n",
       "18  1.000000e+08      0.8413\n",
       "19  1.000000e+09      0.8355\n",
       "20  1.000000e+10      0.8477"
      ]
     },
     "execution_count": 67,
     "metadata": {},
     "output_type": "execute_result"
    }
   ],
   "source": [
    "accr_C_df_mnist"
   ]
  },
  {
   "cell_type": "code",
   "execution_count": 2,
   "metadata": {},
   "outputs": [],
   "source": [
    "#\n",
    "#\n",
    "#\n",
    "#\n",
    "#\n",
    "#\n",
    "# \n",
    "#\n",
    "# \n",
    "#\n",
    "#\n",
    "#\n",
    "#\n",
    "#\n",
    "#\n",
    "#\n",
    "# \n",
    "#\n",
    "#\n",
    "#\n",
    "#\n",
    "# this is used to skip to a new page for the next question\n",
    "#\n",
    "#\n",
    "#\n",
    "#\n",
    "# \n",
    "#\n",
    "#\n",
    "#\n",
    "#\n",
    "#\n",
    "#\n",
    "#\n",
    "#\n",
    "#\n",
    "# \n",
    "#\n",
    "#"
   ]
  },
  {
   "cell_type": "markdown",
   "metadata": {},
   "source": [
    "# Question 5: K-Fold Cross-Validation"
   ]
  },
  {
   "cell_type": "code",
   "execution_count": 57,
   "metadata": {},
   "outputs": [],
   "source": [
    "train_data_spam = data_spam[\"training_data\"]\n",
    "train_labels_spam = data_spam[\"training_labels\"]\n",
    "n_spam = len(train_data_spam)\n",
    "# shuffle the training data\n",
    "shuffle_index = random.sample(range(n_spam), n_spam)\n",
    "train_data_spam = train_data_spam[shuffle_index]\n",
    "train_labels_spam = train_labels_spam[shuffle_index]\n",
    "\n",
    "cv_accr_vs_C = [] # vector for average cv error over different C\n",
    "for j in C_vec:\n",
    "    accr_cv = [] # vector for the 5 cv errors given each C\n",
    "    for i in range(5):\n",
    "        # partition training data into 5 sets\n",
    "        val_start_ind = round(i/5*n_spam)\n",
    "        val_end_ind = round((i+1)/5*n_spam)\n",
    "        val_set_X = train_data_spam[val_start_ind:val_end_ind]\n",
    "        val_set_y = train_labels_spam[val_start_ind:val_end_ind]\n",
    "        train_set_X = np.delete(train_data_spam, range(val_start_ind,val_end_ind), axis=0)\n",
    "        train_set_y = np.delete(train_labels_spam, range(val_start_ind,val_end_ind), axis=0)\n",
    "        # train the model using 4 of the 5 sets\n",
    "        clf = svm.LinearSVC(C = j)\n",
    "        clf.fit(train_set_X, train_set_y.ravel())\n",
    "        # validate using the remaining 1 set\n",
    "        y_pred = clf.predict(val_set_X)\n",
    "        accr_cv.append(metrics.accuracy_score(val_set_y, y_pred))\n",
    "    # the average of the 5 cv errors given this C\n",
    "    cv_accr_vs_C.append(np.mean(accr_cv))\n",
    "\n",
    "cv_accr_vs_C_df = pd.DataFrame({'c value': C_vec, 'accuracies': cv_accr_vs_C})\n",
    "optimal_C_spam = cv_accr_vs_C_df[cv_accr_vs_C_df[\"accuracies\"]\\\n",
    "                                 == max(cv_accr_vs_C_df[\"accuracies\"])].iloc[0,0]"
   ]
  },
  {
   "cell_type": "markdown",
   "metadata": {},
   "source": [
    "C values and corresponding accuracies with the best C being 10"
   ]
  },
  {
   "cell_type": "code",
   "execution_count": 58,
   "metadata": {},
   "outputs": [
    {
     "data": {
      "text/plain": [
       "10.0"
      ]
     },
     "execution_count": 58,
     "metadata": {},
     "output_type": "execute_result"
    }
   ],
   "source": [
    "optimal_C_spam"
   ]
  },
  {
   "cell_type": "code",
   "execution_count": 59,
   "metadata": {},
   "outputs": [
    {
     "data": {
      "text/html": [
       "<div>\n",
       "<style scoped>\n",
       "    .dataframe tbody tr th:only-of-type {\n",
       "        vertical-align: middle;\n",
       "    }\n",
       "\n",
       "    .dataframe tbody tr th {\n",
       "        vertical-align: top;\n",
       "    }\n",
       "\n",
       "    .dataframe thead th {\n",
       "        text-align: right;\n",
       "    }\n",
       "</style>\n",
       "<table border=\"1\" class=\"dataframe\">\n",
       "  <thead>\n",
       "    <tr style=\"text-align: right;\">\n",
       "      <th></th>\n",
       "      <th>c value</th>\n",
       "      <th>accuracies</th>\n",
       "    </tr>\n",
       "  </thead>\n",
       "  <tbody>\n",
       "    <tr>\n",
       "      <th>0</th>\n",
       "      <td>1.000000e-10</td>\n",
       "      <td>0.748069</td>\n",
       "    </tr>\n",
       "    <tr>\n",
       "      <th>1</th>\n",
       "      <td>1.000000e-09</td>\n",
       "      <td>0.748069</td>\n",
       "    </tr>\n",
       "    <tr>\n",
       "      <th>2</th>\n",
       "      <td>1.000000e-08</td>\n",
       "      <td>0.748069</td>\n",
       "    </tr>\n",
       "    <tr>\n",
       "      <th>3</th>\n",
       "      <td>1.000000e-07</td>\n",
       "      <td>0.748648</td>\n",
       "    </tr>\n",
       "    <tr>\n",
       "      <th>4</th>\n",
       "      <td>1.000000e-06</td>\n",
       "      <td>0.752515</td>\n",
       "    </tr>\n",
       "    <tr>\n",
       "      <th>5</th>\n",
       "      <td>1.000000e-05</td>\n",
       "      <td>0.760829</td>\n",
       "    </tr>\n",
       "    <tr>\n",
       "      <th>6</th>\n",
       "      <td>1.000000e-04</td>\n",
       "      <td>0.763536</td>\n",
       "    </tr>\n",
       "    <tr>\n",
       "      <th>7</th>\n",
       "      <td>1.000000e-03</td>\n",
       "      <td>0.778035</td>\n",
       "    </tr>\n",
       "    <tr>\n",
       "      <th>8</th>\n",
       "      <td>1.000000e-02</td>\n",
       "      <td>0.798724</td>\n",
       "    </tr>\n",
       "    <tr>\n",
       "      <th>9</th>\n",
       "      <td>1.000000e-01</td>\n",
       "      <td>0.802591</td>\n",
       "    </tr>\n",
       "    <tr>\n",
       "      <th>10</th>\n",
       "      <td>1.000000e+00</td>\n",
       "      <td>0.808005</td>\n",
       "    </tr>\n",
       "    <tr>\n",
       "      <th>11</th>\n",
       "      <td>1.000000e+01</td>\n",
       "      <td>0.812646</td>\n",
       "    </tr>\n",
       "    <tr>\n",
       "      <th>12</th>\n",
       "      <td>1.000000e+02</td>\n",
       "      <td>0.805111</td>\n",
       "    </tr>\n",
       "    <tr>\n",
       "      <th>13</th>\n",
       "      <td>1.000000e+03</td>\n",
       "      <td>0.775910</td>\n",
       "    </tr>\n",
       "    <tr>\n",
       "      <th>14</th>\n",
       "      <td>1.000000e+04</td>\n",
       "      <td>0.771065</td>\n",
       "    </tr>\n",
       "    <tr>\n",
       "      <th>15</th>\n",
       "      <td>1.000000e+05</td>\n",
       "      <td>0.707636</td>\n",
       "    </tr>\n",
       "    <tr>\n",
       "      <th>16</th>\n",
       "      <td>1.000000e+06</td>\n",
       "      <td>0.791377</td>\n",
       "    </tr>\n",
       "    <tr>\n",
       "      <th>17</th>\n",
       "      <td>1.000000e+07</td>\n",
       "      <td>0.664722</td>\n",
       "    </tr>\n",
       "    <tr>\n",
       "      <th>18</th>\n",
       "      <td>1.000000e+08</td>\n",
       "      <td>0.798728</td>\n",
       "    </tr>\n",
       "    <tr>\n",
       "      <th>19</th>\n",
       "      <td>1.000000e+09</td>\n",
       "      <td>0.692591</td>\n",
       "    </tr>\n",
       "    <tr>\n",
       "      <th>20</th>\n",
       "      <td>1.000000e+10</td>\n",
       "      <td>0.689077</td>\n",
       "    </tr>\n",
       "  </tbody>\n",
       "</table>\n",
       "</div>"
      ],
      "text/plain": [
       "         c value  accuracies\n",
       "0   1.000000e-10    0.748069\n",
       "1   1.000000e-09    0.748069\n",
       "2   1.000000e-08    0.748069\n",
       "3   1.000000e-07    0.748648\n",
       "4   1.000000e-06    0.752515\n",
       "5   1.000000e-05    0.760829\n",
       "6   1.000000e-04    0.763536\n",
       "7   1.000000e-03    0.778035\n",
       "8   1.000000e-02    0.798724\n",
       "9   1.000000e-01    0.802591\n",
       "10  1.000000e+00    0.808005\n",
       "11  1.000000e+01    0.812646\n",
       "12  1.000000e+02    0.805111\n",
       "13  1.000000e+03    0.775910\n",
       "14  1.000000e+04    0.771065\n",
       "15  1.000000e+05    0.707636\n",
       "16  1.000000e+06    0.791377\n",
       "17  1.000000e+07    0.664722\n",
       "18  1.000000e+08    0.798728\n",
       "19  1.000000e+09    0.692591\n",
       "20  1.000000e+10    0.689077"
      ]
     },
     "execution_count": 59,
     "metadata": {},
     "output_type": "execute_result"
    }
   ],
   "source": [
    "cv_accr_vs_C_df"
   ]
  },
  {
   "cell_type": "code",
   "execution_count": 3,
   "metadata": {},
   "outputs": [],
   "source": [
    "#\n",
    "#\n",
    "#\n",
    "#\n",
    "#\n",
    "#\n",
    "# \n",
    "#\n",
    "# this is used to skip to a new page for the next question\n",
    "#\n",
    "#\n",
    "#\n",
    "#\n",
    "#\n",
    "#\n",
    "#\n",
    "# \n",
    "#\n",
    "#\n",
    "#\n",
    "#"
   ]
  },
  {
   "cell_type": "markdown",
   "metadata": {},
   "source": [
    "# Question6: Kaggle"
   ]
  },
  {
   "cell_type": "markdown",
   "metadata": {},
   "source": [
    "## MNIST Prediction"
   ]
  },
  {
   "cell_type": "code",
   "execution_count": 60,
   "metadata": {},
   "outputs": [],
   "source": [
    "training_data_mnist = data_mnist[\"training_data\"]\n",
    "training_labels_mnist = data_mnist[\"training_labels\"]\n",
    "test_data_mnist = data_mnist[\"test_data\"]\n",
    "clf = svm.SVC(C = optimal_C_mnist, kernel = 'linear') # optimal_C_mnist = 1e-6\n",
    "clf.fit(training_data_mnist, training_labels_mnist.ravel())\n",
    "y_test_pred_mnist = clf.predict(test_data_mnist)"
   ]
  },
  {
   "cell_type": "markdown",
   "metadata": {},
   "source": [
    "## SPAM Prediction"
   ]
  },
  {
   "cell_type": "code",
   "execution_count": null,
   "metadata": {},
   "outputs": [],
   "source": [
    "training_data_spam = data_spam[\"training_data\"]\n",
    "training_labels_spam = data_spam[\"training_labels\"]\n",
    "test_data_spam = data_spam[\"test_data\"]\n",
    "clf = svm.LinearSVC(C = optimal_C_spam) # optimal_C_spam = 10\n",
    "clf.fit(training_data_spam, training_labels_spam.ravel())\n",
    "y_test_pred_spam = clf.predict(test_data_spam)"
   ]
  },
  {
   "cell_type": "markdown",
   "metadata": {},
   "source": [
    "## CIFAR-10 Prediction"
   ]
  },
  {
   "cell_type": "markdown",
   "metadata": {},
   "source": [
    "### Hyperparameter Tuning for CIFAR-10\n",
    "Since best C value for CIFAR-10 has not been found, find it first"
   ]
  },
  {
   "cell_type": "code",
   "execution_count": 4,
   "metadata": {},
   "outputs": [],
   "source": [
    "# randomly select a training set of size 10000, find the best C according to\n",
    "# performances on validation set\n",
    "ex_index = random.sample(range(len(train_x_cifar)), 10000)\n",
    "accr_vs_C_cifar = []\n",
    "for i in C_vec:\n",
    "    clf = svm.LinearSVC(C = i)\n",
    "    clf.fit(train_x_cifar[ex_index], train_y_cifar[ex_index].ravel())\n",
    "    y_pred = clf.predict(val_x_cifar)\n",
    "    accr_vs_C_cifar.append(metrics.accuracy_score(val_y_cifar, y_pred))\n",
    "\n",
    "accr_C_df_cifar = pd.DataFrame({'c value': C_vec, 'accuracies': accr_vs_C_cifar})\n",
    "optimal_C_cifar = accr_C_df_cifar[accr_C_df_cifar[\"accuracies\"]\\\n",
    "                            == max(accr_C_df_cifar[\"accuracies\"])].iloc[0,0]\n"
   ]
  },
  {
   "cell_type": "markdown",
   "metadata": {},
   "source": [
    "C values and corresponding accuracies with the best C being 1e-8"
   ]
  },
  {
   "cell_type": "code",
   "execution_count": 8,
   "metadata": {},
   "outputs": [
    {
     "data": {
      "text/plain": [
       "1e-08"
      ]
     },
     "execution_count": 8,
     "metadata": {},
     "output_type": "execute_result"
    }
   ],
   "source": [
    "optimal_C_cifar"
   ]
  },
  {
   "cell_type": "code",
   "execution_count": 7,
   "metadata": {},
   "outputs": [
    {
     "data": {
      "text/html": [
       "<div>\n",
       "<style scoped>\n",
       "    .dataframe tbody tr th:only-of-type {\n",
       "        vertical-align: middle;\n",
       "    }\n",
       "\n",
       "    .dataframe tbody tr th {\n",
       "        vertical-align: top;\n",
       "    }\n",
       "\n",
       "    .dataframe thead th {\n",
       "        text-align: right;\n",
       "    }\n",
       "</style>\n",
       "<table border=\"1\" class=\"dataframe\">\n",
       "  <thead>\n",
       "    <tr style=\"text-align: right;\">\n",
       "      <th></th>\n",
       "      <th>c value</th>\n",
       "      <th>accuracies</th>\n",
       "    </tr>\n",
       "  </thead>\n",
       "  <tbody>\n",
       "    <tr>\n",
       "      <th>0</th>\n",
       "      <td>1.000000e-10</td>\n",
       "      <td>0.3146</td>\n",
       "    </tr>\n",
       "    <tr>\n",
       "      <th>1</th>\n",
       "      <td>1.000000e-09</td>\n",
       "      <td>0.3614</td>\n",
       "    </tr>\n",
       "    <tr>\n",
       "      <th>2</th>\n",
       "      <td>1.000000e-08</td>\n",
       "      <td>0.3852</td>\n",
       "    </tr>\n",
       "    <tr>\n",
       "      <th>3</th>\n",
       "      <td>1.000000e-07</td>\n",
       "      <td>0.3726</td>\n",
       "    </tr>\n",
       "    <tr>\n",
       "      <th>4</th>\n",
       "      <td>1.000000e-06</td>\n",
       "      <td>0.3454</td>\n",
       "    </tr>\n",
       "    <tr>\n",
       "      <th>5</th>\n",
       "      <td>1.000000e-05</td>\n",
       "      <td>0.2866</td>\n",
       "    </tr>\n",
       "    <tr>\n",
       "      <th>6</th>\n",
       "      <td>1.000000e-04</td>\n",
       "      <td>0.2472</td>\n",
       "    </tr>\n",
       "    <tr>\n",
       "      <th>7</th>\n",
       "      <td>1.000000e-03</td>\n",
       "      <td>0.2630</td>\n",
       "    </tr>\n",
       "    <tr>\n",
       "      <th>8</th>\n",
       "      <td>1.000000e-02</td>\n",
       "      <td>0.2458</td>\n",
       "    </tr>\n",
       "    <tr>\n",
       "      <th>9</th>\n",
       "      <td>1.000000e-01</td>\n",
       "      <td>0.2368</td>\n",
       "    </tr>\n",
       "    <tr>\n",
       "      <th>10</th>\n",
       "      <td>1.000000e+00</td>\n",
       "      <td>0.2362</td>\n",
       "    </tr>\n",
       "    <tr>\n",
       "      <th>11</th>\n",
       "      <td>1.000000e+01</td>\n",
       "      <td>0.2432</td>\n",
       "    </tr>\n",
       "    <tr>\n",
       "      <th>12</th>\n",
       "      <td>1.000000e+02</td>\n",
       "      <td>0.2170</td>\n",
       "    </tr>\n",
       "    <tr>\n",
       "      <th>13</th>\n",
       "      <td>1.000000e+03</td>\n",
       "      <td>0.2450</td>\n",
       "    </tr>\n",
       "    <tr>\n",
       "      <th>14</th>\n",
       "      <td>1.000000e+04</td>\n",
       "      <td>0.2364</td>\n",
       "    </tr>\n",
       "    <tr>\n",
       "      <th>15</th>\n",
       "      <td>1.000000e+05</td>\n",
       "      <td>0.2562</td>\n",
       "    </tr>\n",
       "    <tr>\n",
       "      <th>16</th>\n",
       "      <td>1.000000e+06</td>\n",
       "      <td>0.1952</td>\n",
       "    </tr>\n",
       "    <tr>\n",
       "      <th>17</th>\n",
       "      <td>1.000000e+07</td>\n",
       "      <td>0.2416</td>\n",
       "    </tr>\n",
       "    <tr>\n",
       "      <th>18</th>\n",
       "      <td>1.000000e+08</td>\n",
       "      <td>0.1942</td>\n",
       "    </tr>\n",
       "    <tr>\n",
       "      <th>19</th>\n",
       "      <td>1.000000e+09</td>\n",
       "      <td>0.2612</td>\n",
       "    </tr>\n",
       "    <tr>\n",
       "      <th>20</th>\n",
       "      <td>1.000000e+10</td>\n",
       "      <td>0.2126</td>\n",
       "    </tr>\n",
       "  </tbody>\n",
       "</table>\n",
       "</div>"
      ],
      "text/plain": [
       "         c value  accuracies\n",
       "0   1.000000e-10      0.3146\n",
       "1   1.000000e-09      0.3614\n",
       "2   1.000000e-08      0.3852\n",
       "3   1.000000e-07      0.3726\n",
       "4   1.000000e-06      0.3454\n",
       "5   1.000000e-05      0.2866\n",
       "6   1.000000e-04      0.2472\n",
       "7   1.000000e-03      0.2630\n",
       "8   1.000000e-02      0.2458\n",
       "9   1.000000e-01      0.2368\n",
       "10  1.000000e+00      0.2362\n",
       "11  1.000000e+01      0.2432\n",
       "12  1.000000e+02      0.2170\n",
       "13  1.000000e+03      0.2450\n",
       "14  1.000000e+04      0.2364\n",
       "15  1.000000e+05      0.2562\n",
       "16  1.000000e+06      0.1952\n",
       "17  1.000000e+07      0.2416\n",
       "18  1.000000e+08      0.1942\n",
       "19  1.000000e+09      0.2612\n",
       "20  1.000000e+10      0.2126"
      ]
     },
     "execution_count": 7,
     "metadata": {},
     "output_type": "execute_result"
    }
   ],
   "source": [
    "accr_C_df_cifar"
   ]
  },
  {
   "cell_type": "markdown",
   "metadata": {},
   "source": [
    "### Prediction"
   ]
  },
  {
   "cell_type": "code",
   "execution_count": null,
   "metadata": {},
   "outputs": [],
   "source": [
    "training_data_cifar10 = data_cifar10[\"training_data\"]\n",
    "training_labels_cifar10 = data_cifar10[\"training_labels\"]\n",
    "test_data_cifar10 = data_cifar10[\"test_data\"]\n",
    "clf = svm.LinearSVC(C = optimal_C_cifar) # optimal_C_cifar = 1e-8\n",
    "clf.fit(training_data_cifar10, training_labels_cifar10.ravel())\n",
    "y_test_pred_cifar10 = clf.predict(test_data_cifar10)"
   ]
  },
  {
   "cell_type": "markdown",
   "metadata": {},
   "source": [
    "## write prediction into csv\n",
    "comment and uncomment corresponding lines to write one of the three predictions into csv"
   ]
  },
  {
   "cell_type": "code",
   "execution_count": 62,
   "metadata": {},
   "outputs": [],
   "source": [
    "def results_to_csv(y_test, filename):\n",
    "    y_test = y_test.astype(int)\n",
    "    df = pd.DataFrame({'Category': y_test})\n",
    "    df.index += 1  # Ensures that the index starts at 1. \n",
    "    df.to_csv(filename, index_label='Id')\n",
    "\n",
    "results_to_csv(y_test_pred_mnist, 'submission_mnist.csv')\n",
    "results_to_csv(y_test_pred_spam, 'submission_spam.csv')\n",
    "results_to_csv(y_test_pred_cifar10, 'submission_cifar.csv')"
   ]
  }
 ],
 "metadata": {
  "kernelspec": {
   "display_name": "Python 3 (Spyder)",
   "language": "python3",
   "name": "python3"
  },
  "language_info": {
   "codemirror_mode": {
    "name": "ipython",
    "version": 3
   },
   "file_extension": ".py",
   "mimetype": "text/x-python",
   "name": "python",
   "nbconvert_exporter": "python",
   "pygments_lexer": "ipython3",
   "version": "3.7.4"
  }
 },
 "nbformat": 4,
 "nbformat_minor": 2
}
